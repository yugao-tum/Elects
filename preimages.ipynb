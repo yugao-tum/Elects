{
 "cells": [
  {
   "cell_type": "code",
   "execution_count": 1,
   "id": "49de2458-4724-478e-99bc-793ab910870c",
   "metadata": {
    "pycharm": {
     "name": "#%%\n"
    }
   },
   "outputs": [
    {
     "name": "stdout",
     "output_type": "stream",
     "text": [
      "Requirement already satisfied: earthengine-api in c:\\users\\grey\\anaconda3\\lib\\site-packages (0.1.377)\n",
      "Requirement already satisfied: google-cloud-storage in c:\\users\\grey\\anaconda3\\lib\\site-packages (from earthengine-api) (2.13.0)\n",
      "Requirement already satisfied: google-api-python-client>=1.12.1 in c:\\users\\grey\\anaconda3\\lib\\site-packages (from earthengine-api) (2.107.0)\n",
      "Requirement already satisfied: google-auth>=1.4.1 in c:\\users\\grey\\anaconda3\\lib\\site-packages (from earthengine-api) (2.23.4)\n",
      "Requirement already satisfied: google-auth-httplib2>=0.0.3 in c:\\users\\grey\\anaconda3\\lib\\site-packages (from earthengine-api) (0.1.1)\n",
      "Requirement already satisfied: httplib2<1dev,>=0.9.2 in c:\\users\\grey\\anaconda3\\lib\\site-packages (from earthengine-api) (0.22.0)\n",
      "Requirement already satisfied: requests in c:\\users\\grey\\anaconda3\\lib\\site-packages (from earthengine-api) (2.31.0)\n",
      "Requirement already satisfied: google-api-core!=2.0.*,!=2.1.*,!=2.2.*,!=2.3.0,<3.0.0.dev0,>=1.31.5 in c:\\users\\grey\\anaconda3\\lib\\site-packages (from google-api-python-client>=1.12.1->earthengine-api) (2.13.0)\n",
      "Requirement already satisfied: uritemplate<5,>=3.0.1 in c:\\users\\grey\\anaconda3\\lib\\site-packages (from google-api-python-client>=1.12.1->earthengine-api) (4.1.1)\n",
      "Requirement already satisfied: cachetools<6.0,>=2.0.0 in c:\\users\\grey\\anaconda3\\lib\\site-packages (from google-auth>=1.4.1->earthengine-api) (5.3.2)\n",
      "Requirement already satisfied: pyasn1-modules>=0.2.1 in c:\\users\\grey\\anaconda3\\lib\\site-packages (from google-auth>=1.4.1->earthengine-api) (0.2.8)\n",
      "Requirement already satisfied: rsa<5,>=3.1.4 in c:\\users\\grey\\anaconda3\\lib\\site-packages (from google-auth>=1.4.1->earthengine-api) (4.9)\n",
      "Requirement already satisfied: pyparsing!=3.0.0,!=3.0.1,!=3.0.2,!=3.0.3,<4,>=2.4.2 in c:\\users\\grey\\anaconda3\\lib\\site-packages (from httplib2<1dev,>=0.9.2->earthengine-api) (3.0.9)\n",
      "Requirement already satisfied: google-cloud-core<3.0dev,>=2.3.0 in c:\\users\\grey\\anaconda3\\lib\\site-packages (from google-cloud-storage->earthengine-api) (2.3.3)\n",
      "Requirement already satisfied: google-resumable-media>=2.6.0 in c:\\users\\grey\\anaconda3\\lib\\site-packages (from google-cloud-storage->earthengine-api) (2.6.0)\n",
      "Requirement already satisfied: google-crc32c<2.0dev,>=1.0 in c:\\users\\grey\\anaconda3\\lib\\site-packages (from google-cloud-storage->earthengine-api) (1.5.0)\n",
      "Requirement already satisfied: charset-normalizer<4,>=2 in c:\\users\\grey\\anaconda3\\lib\\site-packages (from requests->earthengine-api) (2.0.4)\n",
      "Requirement already satisfied: idna<4,>=2.5 in c:\\users\\grey\\anaconda3\\lib\\site-packages (from requests->earthengine-api) (3.4)\n",
      "Requirement already satisfied: urllib3<3,>=1.21.1 in c:\\users\\grey\\anaconda3\\lib\\site-packages (from requests->earthengine-api) (1.26.16)\n",
      "Requirement already satisfied: certifi>=2017.4.17 in c:\\users\\grey\\anaconda3\\lib\\site-packages (from requests->earthengine-api) (2023.7.22)\n",
      "Requirement already satisfied: googleapis-common-protos<2.0.dev0,>=1.56.2 in c:\\users\\grey\\anaconda3\\lib\\site-packages (from google-api-core!=2.0.*,!=2.1.*,!=2.2.*,!=2.3.0,<3.0.0.dev0,>=1.31.5->google-api-python-client>=1.12.1->earthengine-api) (1.61.0)\n",
      "Requirement already satisfied: protobuf!=3.20.0,!=3.20.1,!=4.21.0,!=4.21.1,!=4.21.2,!=4.21.3,!=4.21.4,!=4.21.5,<5.0.0.dev0,>=3.19.5 in c:\\users\\grey\\anaconda3\\lib\\site-packages (from google-api-core!=2.0.*,!=2.1.*,!=2.2.*,!=2.3.0,<3.0.0.dev0,>=1.31.5->google-api-python-client>=1.12.1->earthengine-api) (4.25.0)\n",
      "Requirement already satisfied: pyasn1<0.5.0,>=0.4.6 in c:\\users\\grey\\anaconda3\\lib\\site-packages (from pyasn1-modules>=0.2.1->google-auth>=1.4.1->earthengine-api) (0.4.8)\n",
      "Note: you may need to restart the kernel to use updated packages.\n"
     ]
    }
   ],
   "source": [
    "%pip install earthengine-api\n",
    "\n",
    "import ee"
   ]
  },
  {
   "cell_type": "code",
   "execution_count": 2,
   "id": "f28b5f02-c9b4-4683-83c4-c6e7481e1780",
   "metadata": {
    "pycharm": {
     "name": "#%%\n"
    }
   },
   "outputs": [
    {
     "name": "stdout",
     "output_type": "stream",
     "text": [
      "Requirement already satisfied: geemap in c:\\users\\grey\\anaconda3\\lib\\site-packages (0.29.5)\n",
      "Requirement already satisfied: bqplot in c:\\users\\grey\\anaconda3\\lib\\site-packages (from geemap) (0.12.42)\n",
      "Requirement already satisfied: colour in c:\\users\\grey\\anaconda3\\lib\\site-packages (from geemap) (0.1.5)\n",
      "Requirement already satisfied: earthengine-api>=0.1.347 in c:\\users\\grey\\anaconda3\\lib\\site-packages (from geemap) (0.1.377)\n",
      "Requirement already satisfied: eerepr>=0.0.4 in c:\\users\\grey\\anaconda3\\lib\\site-packages (from geemap) (0.0.4)\n",
      "Requirement already satisfied: folium>=0.13.0 in c:\\users\\grey\\anaconda3\\lib\\site-packages (from geemap) (0.15.0)\n",
      "Requirement already satisfied: geocoder in c:\\users\\grey\\anaconda3\\lib\\site-packages (from geemap) (1.38.1)\n",
      "Requirement already satisfied: ipyevents in c:\\users\\grey\\anaconda3\\lib\\site-packages (from geemap) (2.0.2)\n",
      "Requirement already satisfied: ipyfilechooser>=0.6.0 in c:\\users\\grey\\anaconda3\\lib\\site-packages (from geemap) (0.6.0)\n",
      "Requirement already satisfied: ipyleaflet>=0.17.0 in c:\\users\\grey\\anaconda3\\lib\\site-packages (from geemap) (0.17.4)\n",
      "Requirement already satisfied: ipytree in c:\\users\\grey\\anaconda3\\lib\\site-packages (from geemap) (0.2.2)\n",
      "Requirement already satisfied: matplotlib in c:\\users\\grey\\anaconda3\\lib\\site-packages (from geemap) (3.7.2)\n",
      "Requirement already satisfied: numpy in c:\\users\\grey\\anaconda3\\lib\\site-packages (from geemap) (1.24.3)\n",
      "Requirement already satisfied: pandas in c:\\users\\grey\\anaconda3\\lib\\site-packages (from geemap) (2.0.3)\n",
      "Requirement already satisfied: plotly in c:\\users\\grey\\anaconda3\\lib\\site-packages (from geemap) (5.9.0)\n",
      "Requirement already satisfied: pyperclip in c:\\users\\grey\\anaconda3\\lib\\site-packages (from geemap) (1.8.2)\n",
      "Requirement already satisfied: pyshp>=2.1.3 in c:\\users\\grey\\anaconda3\\lib\\site-packages (from geemap) (2.3.1)\n",
      "Requirement already satisfied: python-box in c:\\users\\grey\\anaconda3\\lib\\site-packages (from geemap) (7.1.1)\n",
      "Requirement already satisfied: scooby in c:\\users\\grey\\anaconda3\\lib\\site-packages (from geemap) (0.9.2)\n",
      "Requirement already satisfied: google-cloud-storage in c:\\users\\grey\\anaconda3\\lib\\site-packages (from earthengine-api>=0.1.347->geemap) (2.13.0)\n",
      "Requirement already satisfied: google-api-python-client>=1.12.1 in c:\\users\\grey\\anaconda3\\lib\\site-packages (from earthengine-api>=0.1.347->geemap) (2.107.0)\n",
      "Requirement already satisfied: google-auth>=1.4.1 in c:\\users\\grey\\anaconda3\\lib\\site-packages (from earthengine-api>=0.1.347->geemap) (2.23.4)\n",
      "Requirement already satisfied: google-auth-httplib2>=0.0.3 in c:\\users\\grey\\anaconda3\\lib\\site-packages (from earthengine-api>=0.1.347->geemap) (0.1.1)\n",
      "Requirement already satisfied: httplib2<1dev,>=0.9.2 in c:\\users\\grey\\anaconda3\\lib\\site-packages (from earthengine-api>=0.1.347->geemap) (0.22.0)\n",
      "Requirement already satisfied: requests in c:\\users\\grey\\anaconda3\\lib\\site-packages (from earthengine-api>=0.1.347->geemap) (2.31.0)\n",
      "Requirement already satisfied: branca>=0.6.0 in c:\\users\\grey\\anaconda3\\lib\\site-packages (from folium>=0.13.0->geemap) (0.7.0)\n",
      "Requirement already satisfied: jinja2>=2.9 in c:\\users\\grey\\anaconda3\\lib\\site-packages (from folium>=0.13.0->geemap) (3.1.2)\n",
      "Requirement already satisfied: ipywidgets in c:\\users\\grey\\anaconda3\\lib\\site-packages (from ipyfilechooser>=0.6.0->geemap) (8.0.4)\n",
      "Requirement already satisfied: traittypes<3,>=0.2.1 in c:\\users\\grey\\anaconda3\\lib\\site-packages (from ipyleaflet>=0.17.0->geemap) (0.2.1)\n",
      "Requirement already satisfied: xyzservices>=2021.8.1 in c:\\users\\grey\\anaconda3\\lib\\site-packages (from ipyleaflet>=0.17.0->geemap) (2022.9.0)\n",
      "Requirement already satisfied: traitlets>=4.3.0 in c:\\users\\grey\\anaconda3\\lib\\site-packages (from bqplot->geemap) (5.7.1)\n",
      "Requirement already satisfied: python-dateutil>=2.8.2 in c:\\users\\grey\\anaconda3\\lib\\site-packages (from pandas->geemap) (2.8.2)\n",
      "Requirement already satisfied: pytz>=2020.1 in c:\\users\\grey\\anaconda3\\lib\\site-packages (from pandas->geemap) (2023.3.post1)\n",
      "Requirement already satisfied: tzdata>=2022.1 in c:\\users\\grey\\anaconda3\\lib\\site-packages (from pandas->geemap) (2023.3)\n",
      "Requirement already satisfied: click in c:\\users\\grey\\anaconda3\\lib\\site-packages (from geocoder->geemap) (8.0.4)\n",
      "Requirement already satisfied: future in c:\\users\\grey\\anaconda3\\lib\\site-packages (from geocoder->geemap) (0.18.3)\n",
      "Requirement already satisfied: ratelim in c:\\users\\grey\\anaconda3\\lib\\site-packages (from geocoder->geemap) (0.1.6)\n",
      "Requirement already satisfied: six in c:\\users\\grey\\anaconda3\\lib\\site-packages (from geocoder->geemap) (1.16.0)\n",
      "Requirement already satisfied: contourpy>=1.0.1 in c:\\users\\grey\\anaconda3\\lib\\site-packages (from matplotlib->geemap) (1.0.5)\n",
      "Requirement already satisfied: cycler>=0.10 in c:\\users\\grey\\anaconda3\\lib\\site-packages (from matplotlib->geemap) (0.11.0)\n",
      "Requirement already satisfied: fonttools>=4.22.0 in c:\\users\\grey\\anaconda3\\lib\\site-packages (from matplotlib->geemap) (4.25.0)\n",
      "Requirement already satisfied: kiwisolver>=1.0.1 in c:\\users\\grey\\anaconda3\\lib\\site-packages (from matplotlib->geemap) (1.4.4)\n",
      "Requirement already satisfied: packaging>=20.0 in c:\\users\\grey\\anaconda3\\lib\\site-packages (from matplotlib->geemap) (23.1)\n",
      "Requirement already satisfied: pillow>=6.2.0 in c:\\users\\grey\\anaconda3\\lib\\site-packages (from matplotlib->geemap) (9.4.0)\n",
      "Requirement already satisfied: pyparsing<3.1,>=2.3.1 in c:\\users\\grey\\anaconda3\\lib\\site-packages (from matplotlib->geemap) (3.0.9)\n",
      "Requirement already satisfied: tenacity>=6.2.0 in c:\\users\\grey\\anaconda3\\lib\\site-packages (from plotly->geemap) (8.2.2)\n",
      "Requirement already satisfied: google-api-core!=2.0.*,!=2.1.*,!=2.2.*,!=2.3.0,<3.0.0.dev0,>=1.31.5 in c:\\users\\grey\\anaconda3\\lib\\site-packages (from google-api-python-client>=1.12.1->earthengine-api>=0.1.347->geemap) (2.13.0)\n",
      "Requirement already satisfied: uritemplate<5,>=3.0.1 in c:\\users\\grey\\anaconda3\\lib\\site-packages (from google-api-python-client>=1.12.1->earthengine-api>=0.1.347->geemap) (4.1.1)\n",
      "Requirement already satisfied: cachetools<6.0,>=2.0.0 in c:\\users\\grey\\anaconda3\\lib\\site-packages (from google-auth>=1.4.1->earthengine-api>=0.1.347->geemap) (5.3.2)\n",
      "Requirement already satisfied: pyasn1-modules>=0.2.1 in c:\\users\\grey\\anaconda3\\lib\\site-packages (from google-auth>=1.4.1->earthengine-api>=0.1.347->geemap) (0.2.8)\n",
      "Requirement already satisfied: rsa<5,>=3.1.4 in c:\\users\\grey\\anaconda3\\lib\\site-packages (from google-auth>=1.4.1->earthengine-api>=0.1.347->geemap) (4.9)\n",
      "Requirement already satisfied: ipykernel>=4.5.1 in c:\\users\\grey\\anaconda3\\lib\\site-packages (from ipywidgets->ipyfilechooser>=0.6.0->geemap) (6.25.0)\n",
      "Requirement already satisfied: ipython>=6.1.0 in c:\\users\\grey\\anaconda3\\lib\\site-packages (from ipywidgets->ipyfilechooser>=0.6.0->geemap) (8.15.0)\n",
      "Requirement already satisfied: widgetsnbextension~=4.0 in c:\\users\\grey\\anaconda3\\lib\\site-packages (from ipywidgets->ipyfilechooser>=0.6.0->geemap) (4.0.5)\n",
      "Requirement already satisfied: jupyterlab-widgets~=3.0 in c:\\users\\grey\\anaconda3\\lib\\site-packages (from ipywidgets->ipyfilechooser>=0.6.0->geemap) (3.0.5)\n",
      "Requirement already satisfied: MarkupSafe>=2.0 in c:\\users\\grey\\anaconda3\\lib\\site-packages (from jinja2>=2.9->folium>=0.13.0->geemap) (2.1.1)\n",
      "Requirement already satisfied: colorama in c:\\users\\grey\\anaconda3\\lib\\site-packages (from click->geocoder->geemap) (0.4.6)\n",
      "Requirement already satisfied: google-cloud-core<3.0dev,>=2.3.0 in c:\\users\\grey\\anaconda3\\lib\\site-packages (from google-cloud-storage->earthengine-api>=0.1.347->geemap) (2.3.3)\n",
      "Requirement already satisfied: google-resumable-media>=2.6.0 in c:\\users\\grey\\anaconda3\\lib\\site-packages (from google-cloud-storage->earthengine-api>=0.1.347->geemap) (2.6.0)\n",
      "Requirement already satisfied: google-crc32c<2.0dev,>=1.0 in c:\\users\\grey\\anaconda3\\lib\\site-packages (from google-cloud-storage->earthengine-api>=0.1.347->geemap) (1.5.0)\n",
      "Requirement already satisfied: charset-normalizer<4,>=2 in c:\\users\\grey\\anaconda3\\lib\\site-packages (from requests->earthengine-api>=0.1.347->geemap) (2.0.4)\n",
      "Requirement already satisfied: idna<4,>=2.5 in c:\\users\\grey\\anaconda3\\lib\\site-packages (from requests->earthengine-api>=0.1.347->geemap) (3.4)\n",
      "Requirement already satisfied: urllib3<3,>=1.21.1 in c:\\users\\grey\\anaconda3\\lib\\site-packages (from requests->earthengine-api>=0.1.347->geemap) (1.26.16)\n",
      "Requirement already satisfied: certifi>=2017.4.17 in c:\\users\\grey\\anaconda3\\lib\\site-packages (from requests->earthengine-api>=0.1.347->geemap) (2023.7.22)\n",
      "Requirement already satisfied: decorator in c:\\users\\grey\\anaconda3\\lib\\site-packages (from ratelim->geocoder->geemap) (5.1.1)\n",
      "Requirement already satisfied: googleapis-common-protos<2.0.dev0,>=1.56.2 in c:\\users\\grey\\anaconda3\\lib\\site-packages (from google-api-core!=2.0.*,!=2.1.*,!=2.2.*,!=2.3.0,<3.0.0.dev0,>=1.31.5->google-api-python-client>=1.12.1->earthengine-api>=0.1.347->geemap) (1.61.0)\n",
      "Requirement already satisfied: protobuf!=3.20.0,!=3.20.1,!=4.21.0,!=4.21.1,!=4.21.2,!=4.21.3,!=4.21.4,!=4.21.5,<5.0.0.dev0,>=3.19.5 in c:\\users\\grey\\anaconda3\\lib\\site-packages (from google-api-core!=2.0.*,!=2.1.*,!=2.2.*,!=2.3.0,<3.0.0.dev0,>=1.31.5->google-api-python-client>=1.12.1->earthengine-api>=0.1.347->geemap) (4.25.0)\n",
      "Requirement already satisfied: comm>=0.1.1 in c:\\users\\grey\\anaconda3\\lib\\site-packages (from ipykernel>=4.5.1->ipywidgets->ipyfilechooser>=0.6.0->geemap) (0.1.2)\n",
      "Requirement already satisfied: debugpy>=1.6.5 in c:\\users\\grey\\anaconda3\\lib\\site-packages (from ipykernel>=4.5.1->ipywidgets->ipyfilechooser>=0.6.0->geemap) (1.6.7)\n",
      "Requirement already satisfied: jupyter-client>=6.1.12 in c:\\users\\grey\\anaconda3\\lib\\site-packages (from ipykernel>=4.5.1->ipywidgets->ipyfilechooser>=0.6.0->geemap) (7.4.9)\n",
      "Requirement already satisfied: jupyter-core!=5.0.*,>=4.12 in c:\\users\\grey\\anaconda3\\lib\\site-packages (from ipykernel>=4.5.1->ipywidgets->ipyfilechooser>=0.6.0->geemap) (5.3.0)\n",
      "Requirement already satisfied: matplotlib-inline>=0.1 in c:\\users\\grey\\anaconda3\\lib\\site-packages (from ipykernel>=4.5.1->ipywidgets->ipyfilechooser>=0.6.0->geemap) (0.1.6)\n",
      "Requirement already satisfied: nest-asyncio in c:\\users\\grey\\anaconda3\\lib\\site-packages (from ipykernel>=4.5.1->ipywidgets->ipyfilechooser>=0.6.0->geemap) (1.5.6)\n",
      "Requirement already satisfied: psutil in c:\\users\\grey\\anaconda3\\lib\\site-packages (from ipykernel>=4.5.1->ipywidgets->ipyfilechooser>=0.6.0->geemap) (5.9.0)\n",
      "Requirement already satisfied: pyzmq>=20 in c:\\users\\grey\\anaconda3\\lib\\site-packages (from ipykernel>=4.5.1->ipywidgets->ipyfilechooser>=0.6.0->geemap) (23.2.0)\n",
      "Requirement already satisfied: tornado>=6.1 in c:\\users\\grey\\anaconda3\\lib\\site-packages (from ipykernel>=4.5.1->ipywidgets->ipyfilechooser>=0.6.0->geemap) (6.3.2)\n",
      "Requirement already satisfied: backcall in c:\\users\\grey\\anaconda3\\lib\\site-packages (from ipython>=6.1.0->ipywidgets->ipyfilechooser>=0.6.0->geemap) (0.2.0)\n",
      "Requirement already satisfied: jedi>=0.16 in c:\\users\\grey\\anaconda3\\lib\\site-packages (from ipython>=6.1.0->ipywidgets->ipyfilechooser>=0.6.0->geemap) (0.18.1)\n",
      "Requirement already satisfied: pickleshare in c:\\users\\grey\\anaconda3\\lib\\site-packages (from ipython>=6.1.0->ipywidgets->ipyfilechooser>=0.6.0->geemap) (0.7.5)\n",
      "Requirement already satisfied: prompt-toolkit!=3.0.37,<3.1.0,>=3.0.30 in c:\\users\\grey\\anaconda3\\lib\\site-packages (from ipython>=6.1.0->ipywidgets->ipyfilechooser>=0.6.0->geemap) (3.0.36)\n",
      "Requirement already satisfied: pygments>=2.4.0 in c:\\users\\grey\\anaconda3\\lib\\site-packages (from ipython>=6.1.0->ipywidgets->ipyfilechooser>=0.6.0->geemap) (2.15.1)\n",
      "Requirement already satisfied: stack-data in c:\\users\\grey\\anaconda3\\lib\\site-packages (from ipython>=6.1.0->ipywidgets->ipyfilechooser>=0.6.0->geemap) (0.2.0)\n",
      "Requirement already satisfied: pyasn1<0.5.0,>=0.4.6 in c:\\users\\grey\\anaconda3\\lib\\site-packages (from pyasn1-modules>=0.2.1->google-auth>=1.4.1->earthengine-api>=0.1.347->geemap) (0.4.8)\n",
      "Requirement already satisfied: parso<0.9.0,>=0.8.0 in c:\\users\\grey\\anaconda3\\lib\\site-packages (from jedi>=0.16->ipython>=6.1.0->ipywidgets->ipyfilechooser>=0.6.0->geemap) (0.8.3)\n",
      "Requirement already satisfied: entrypoints in c:\\users\\grey\\anaconda3\\lib\\site-packages (from jupyter-client>=6.1.12->ipykernel>=4.5.1->ipywidgets->ipyfilechooser>=0.6.0->geemap) (0.4)\n",
      "Requirement already satisfied: platformdirs>=2.5 in c:\\users\\grey\\anaconda3\\lib\\site-packages (from jupyter-core!=5.0.*,>=4.12->ipykernel>=4.5.1->ipywidgets->ipyfilechooser>=0.6.0->geemap) (3.10.0)\n",
      "Requirement already satisfied: pywin32>=300 in c:\\users\\grey\\anaconda3\\lib\\site-packages (from jupyter-core!=5.0.*,>=4.12->ipykernel>=4.5.1->ipywidgets->ipyfilechooser>=0.6.0->geemap) (305.1)\n",
      "Requirement already satisfied: wcwidth in c:\\users\\grey\\anaconda3\\lib\\site-packages (from prompt-toolkit!=3.0.37,<3.1.0,>=3.0.30->ipython>=6.1.0->ipywidgets->ipyfilechooser>=0.6.0->geemap) (0.2.5)\n",
      "Requirement already satisfied: executing in c:\\users\\grey\\anaconda3\\lib\\site-packages (from stack-data->ipython>=6.1.0->ipywidgets->ipyfilechooser>=0.6.0->geemap) (0.8.3)\n",
      "Requirement already satisfied: asttokens in c:\\users\\grey\\anaconda3\\lib\\site-packages (from stack-data->ipython>=6.1.0->ipywidgets->ipyfilechooser>=0.6.0->geemap) (2.0.5)\n",
      "Requirement already satisfied: pure-eval in c:\\users\\grey\\anaconda3\\lib\\site-packages (from stack-data->ipython>=6.1.0->ipywidgets->ipyfilechooser>=0.6.0->geemap) (0.2.2)\n",
      "Note: you may need to restart the kernel to use updated packages.\n"
     ]
    },
    {
     "data": {
      "text/html": [
       "<p>To authorize access needed by Earth Engine, open the following\n",
       "        URL in a web browser and follow the instructions:</p>\n",
       "        <p><a href=https://code.earthengine.google.com/client-auth?scopes=https%3A//www.googleapis.com/auth/earthengine%20https%3A//www.googleapis.com/auth/devstorage.full_control&request_id=_vyPAi5HhS3owKIGbMTSmTJXPjfu9y9xuXstokUMZng&tc=Hrvuoms4ITVeFM0WdWHiJmYVYcGSf-8ulOHtRXKNt3s&cc=RHlvFxogHVZKcYKp5o-BRGMD_zaL2nNoQCpoDecb6SE>https://code.earthengine.google.com/client-auth?scopes=https%3A//www.googleapis.com/auth/earthengine%20https%3A//www.googleapis.com/auth/devstorage.full_control&request_id=_vyPAi5HhS3owKIGbMTSmTJXPjfu9y9xuXstokUMZng&tc=Hrvuoms4ITVeFM0WdWHiJmYVYcGSf-8ulOHtRXKNt3s&cc=RHlvFxogHVZKcYKp5o-BRGMD_zaL2nNoQCpoDecb6SE</a></p>\n",
       "        <p>The authorization workflow will generate a code, which you should paste in the box below.</p>\n",
       "        "
      ],
      "text/plain": [
       "<IPython.core.display.HTML object>"
      ]
     },
     "metadata": {},
     "output_type": "display_data"
    },
    {
     "name": "stdout",
     "output_type": "stream",
     "text": [
      "\n",
      "Successfully saved authorization token.\n"
     ]
    }
   ],
   "source": [
    "%pip install geemap\n",
    "import geemap\n",
    "ee.Authenticate()\n",
    "ee.Initialize()"
   ]
  },
  {
   "cell_type": "code",
   "execution_count": 3,
   "id": "5bfa1149-646c-4761-9baa-5af709077df9",
   "metadata": {
    "pycharm": {
     "name": "#%%\n"
    }
   },
   "outputs": [
    {
     "data": {
      "text/html": [
       "\n",
       "            <style>\n",
       "                .geemap-dark {\n",
       "                    --jp-widgets-color: white;\n",
       "                    --jp-widgets-label-color: white;\n",
       "                    --jp-ui-font-color1: white;\n",
       "                    --jp-layout-color2: #454545;\n",
       "                    background-color: #383838;\n",
       "                }\n",
       "                    \n",
       "                .geemap-dark .jupyter-button {\n",
       "                    --jp-layout-color3: #383838;\n",
       "                }\n",
       "                \n",
       "                .geemap-colab {\n",
       "                    background-color: var(--colab-primary-surface-color, white);\n",
       "                }\n",
       "                    \n",
       "                .geemap-colab .jupyter-button {\n",
       "                    --jp-layout-color3: var(--colab-primary-surface-color, white);\n",
       "                }\n",
       "            </style>\n",
       "            "
      ],
      "text/plain": [
       "<IPython.core.display.HTML object>"
      ]
     },
     "metadata": {},
     "output_type": "display_data"
    },
    {
     "name": "stdout",
     "output_type": "stream",
     "text": [
      "Google Earth Engine has initialized successfully!\n"
     ]
    }
   ],
   "source": [
    "try:\n",
    "  ee.Initialize()\n",
    "  print('Google Earth Engine has initialized successfully!')\n",
    "except ee.EEException as e:\n",
    "  print('Google Earth Engine has failed to initialize!')\n",
    "except:\n",
    "    print(\"Unexpected error:\", sys.exc_info()[0])\n",
    "    raise"
   ]
  },
  {
   "cell_type": "code",
   "execution_count": 4,
   "id": "3d83554f-5b19-4bb7-9670-0502611ba99d",
   "metadata": {
    "pycharm": {
     "name": "#%%\n"
    }
   },
   "outputs": [
    {
     "data": {
      "text/html": [
       "\n",
       "            <style>\n",
       "                .geemap-dark {\n",
       "                    --jp-widgets-color: white;\n",
       "                    --jp-widgets-label-color: white;\n",
       "                    --jp-ui-font-color1: white;\n",
       "                    --jp-layout-color2: #454545;\n",
       "                    background-color: #383838;\n",
       "                }\n",
       "                    \n",
       "                .geemap-dark .jupyter-button {\n",
       "                    --jp-layout-color3: #383838;\n",
       "                }\n",
       "                \n",
       "                .geemap-colab {\n",
       "                    background-color: var(--colab-primary-surface-color, white);\n",
       "                }\n",
       "                    \n",
       "                .geemap-colab .jupyter-button {\n",
       "                    --jp-layout-color3: var(--colab-primary-surface-color, white);\n",
       "                }\n",
       "            </style>\n",
       "            "
      ],
      "text/plain": [
       "<IPython.core.display.HTML object>"
      ]
     },
     "metadata": {},
     "output_type": "display_data"
    },
    {
     "data": {
      "application/vnd.jupyter.widget-view+json": {
       "model_id": "94e4648afb364b86a7596f93c2cadca9",
       "version_major": 2,
       "version_minor": 0
      },
      "text/plain": [
       "Map(center=[48.406, 11.69], controls=(WidgetControl(options=['position', 'transparent_bg'], widget=SearchDataG…"
      ]
     },
     "execution_count": 4,
     "metadata": {},
     "output_type": "execute_result"
    }
   ],
   "source": [
    "Map = geemap.Map(center=(48.406,11.690), zoom=11) # Set your study areacoordinates as center and change the zoom value for better visualization\n",
    "Map"
   ]
  },
  {
   "cell_type": "code",
   "execution_count": 34,
   "id": "8ad8367e-157a-477f-93a3-b81884573dc6",
   "metadata": {
    "pycharm": {
     "name": "#%%\n"
    }
   },
   "outputs": [
    {
     "data": {
      "text/html": [
       "\n",
       "            <style>\n",
       "                .geemap-dark {\n",
       "                    --jp-widgets-color: white;\n",
       "                    --jp-widgets-label-color: white;\n",
       "                    --jp-ui-font-color1: white;\n",
       "                    --jp-layout-color2: #454545;\n",
       "                    background-color: #383838;\n",
       "                }\n",
       "                    \n",
       "                .geemap-dark .jupyter-button {\n",
       "                    --jp-layout-color3: #383838;\n",
       "                }\n",
       "                \n",
       "                .geemap-colab {\n",
       "                    background-color: var(--colab-primary-surface-color, white);\n",
       "                }\n",
       "                    \n",
       "                .geemap-colab .jupyter-button {\n",
       "                    --jp-layout-color3: var(--colab-primary-surface-color, white);\n",
       "                }\n",
       "            </style>\n",
       "            "
      ],
      "text/plain": [
       "<IPython.core.display.HTML object>"
      ]
     },
     "metadata": {},
     "output_type": "display_data"
    }
   ],
   "source": [
    "roi = ee.FeatureCollection(\"users/gaoyu546/cropboun\") # Read your Study area shape here from uploaded GEE Asset\n",
    "aoi = roi.geometry()       # Convert Feature Collecion to Geometry as String"
   ]
  },
  {
   "cell_type": "code",
   "execution_count": 35,
   "id": "a63e5016-44ee-4631-bbe0-69d93f846421",
   "metadata": {
    "pycharm": {
     "name": "#%%\n"
    }
   },
   "outputs": [
    {
     "data": {
      "text/html": [
       "\n",
       "            <style>\n",
       "                .geemap-dark {\n",
       "                    --jp-widgets-color: white;\n",
       "                    --jp-widgets-label-color: white;\n",
       "                    --jp-ui-font-color1: white;\n",
       "                    --jp-layout-color2: #454545;\n",
       "                    background-color: #383838;\n",
       "                }\n",
       "                    \n",
       "                .geemap-dark .jupyter-button {\n",
       "                    --jp-layout-color3: #383838;\n",
       "                }\n",
       "                \n",
       "                .geemap-colab {\n",
       "                    background-color: var(--colab-primary-surface-color, white);\n",
       "                }\n",
       "                    \n",
       "                .geemap-colab .jupyter-button {\n",
       "                    --jp-layout-color3: var(--colab-primary-surface-color, white);\n",
       "                }\n",
       "            </style>\n",
       "            "
      ],
      "text/plain": [
       "<IPython.core.display.HTML object>"
      ]
     },
     "metadata": {},
     "output_type": "display_data"
    }
   ],
   "source": [
    "def landsat (image):\n",
    "    qaMask = image.select('QA_PIXEL').bitwiseAnd(int('11111', 2)).eq(0);\n",
    "    saturationMask = image.select('QA_RADSAT').eq(0);\n",
    "    opticalBands = image.select('SR_B.').multiply(0.0000275).add(-0.2)\n",
    "    thermalBands = image.select('ST_B.*').multiply(0.00341802).add(149.0)\n",
    "    return image.addBands(opticalBands, None, True).addBands(thermalBands, None, True).updateMask(qaMask).updateMask(saturationMask);"
   ]
  },
  {
   "cell_type": "code",
   "execution_count": 36,
   "id": "e0919ee4-584a-4b9b-83ed-1f6eb9e744e7",
   "metadata": {
    "pycharm": {
     "name": "#%%\n"
    }
   },
   "outputs": [
    {
     "data": {
      "text/html": [
       "\n",
       "            <style>\n",
       "                .geemap-dark {\n",
       "                    --jp-widgets-color: white;\n",
       "                    --jp-widgets-label-color: white;\n",
       "                    --jp-ui-font-color1: white;\n",
       "                    --jp-layout-color2: #454545;\n",
       "                    background-color: #383838;\n",
       "                }\n",
       "                    \n",
       "                .geemap-dark .jupyter-button {\n",
       "                    --jp-layout-color3: #383838;\n",
       "                }\n",
       "                \n",
       "                .geemap-colab {\n",
       "                    background-color: var(--colab-primary-surface-color, white);\n",
       "                }\n",
       "                    \n",
       "                .geemap-colab .jupyter-button {\n",
       "                    --jp-layout-color3: var(--colab-primary-surface-color, white);\n",
       "                }\n",
       "            </style>\n",
       "            "
      ],
      "text/plain": [
       "<IPython.core.display.HTML object>"
      ]
     },
     "metadata": {},
     "output_type": "display_data"
    }
   ],
   "source": [
    "dataset_l8 = ee.ImageCollection(\"LANDSAT/LC08/C02/T1_L2\")\\\n",
    "            .map(landsat)\\\n",
    "            .filterDate('2013-05-01', '2022-08-31')\\\n",
    "            .filterBounds(roi)\\\n",
    "            .filter(ee.Filter.calendarRange(121, 243, 'day_of_year'))\n",
    "dataset = ee.ImageCollection(\"COPERNICUS/S2_SR\")\\\n",
    "            .filterDate('2016-07-01', '2020-07-11')\\\n",
    "            .filterBounds(roi)\\\n",
    "            .filter('CLOUDY_PIXEL_PERCENTAGE <= 5')\n"
   ]
  },
  {
   "cell_type": "code",
   "execution_count": 37,
   "id": "100bc21a-67c8-453c-b226-d9d6fb765a6c",
   "metadata": {
    "pycharm": {
     "name": "#%%\n"
    }
   },
   "outputs": [
    {
     "data": {
      "text/html": [
       "\n",
       "            <style>\n",
       "                .geemap-dark {\n",
       "                    --jp-widgets-color: white;\n",
       "                    --jp-widgets-label-color: white;\n",
       "                    --jp-ui-font-color1: white;\n",
       "                    --jp-layout-color2: #454545;\n",
       "                    background-color: #383838;\n",
       "                }\n",
       "                    \n",
       "                .geemap-dark .jupyter-button {\n",
       "                    --jp-layout-color3: #383838;\n",
       "                }\n",
       "                \n",
       "                .geemap-colab {\n",
       "                    background-color: var(--colab-primary-surface-color, white);\n",
       "                }\n",
       "                    \n",
       "                .geemap-colab .jupyter-button {\n",
       "                    --jp-layout-color3: var(--colab-primary-surface-color, white);\n",
       "                }\n",
       "            </style>\n",
       "            "
      ],
      "text/plain": [
       "<IPython.core.display.HTML object>"
      ]
     },
     "metadata": {},
     "output_type": "display_data"
    },
    {
     "name": "stdout",
     "output_type": "stream",
     "text": [
      "Number of images in the collection:  269\n"
     ]
    },
    {
     "data": {
      "text/plain": [
       "['LC08_192026_20130515',\n",
       " 'LC08_192026_20130616',\n",
       " 'LC08_192026_20130702',\n",
       " 'LC08_192026_20130718',\n",
       " 'LC08_192026_20130803',\n",
       " 'LC08_192026_20130819',\n",
       " 'LC08_192026_20140502',\n",
       " 'LC08_192026_20140603',\n",
       " 'LC08_192026_20140619',\n",
       " 'LC08_192026_20140705',\n",
       " 'LC08_192026_20140721',\n",
       " 'LC08_192026_20140806',\n",
       " 'LC08_192026_20140822',\n",
       " 'LC08_192026_20150505',\n",
       " 'LC08_192026_20150606',\n",
       " 'LC08_192026_20150622',\n",
       " 'LC08_192026_20150708',\n",
       " 'LC08_192026_20150724',\n",
       " 'LC08_192026_20150809',\n",
       " 'LC08_192026_20150825',\n",
       " 'LC08_192026_20160507',\n",
       " 'LC08_192026_20160523',\n",
       " 'LC08_192026_20160608',\n",
       " 'LC08_192026_20160624',\n",
       " 'LC08_192026_20160710',\n",
       " 'LC08_192026_20160726',\n",
       " 'LC08_192026_20160811',\n",
       " 'LC08_192026_20160827',\n",
       " 'LC08_192026_20170510',\n",
       " 'LC08_192026_20170526',\n",
       " 'LC08_192026_20170611',\n",
       " 'LC08_192026_20170627',\n",
       " 'LC08_192026_20170713',\n",
       " 'LC08_192026_20170729',\n",
       " 'LC08_192026_20170814',\n",
       " 'LC08_192026_20170830',\n",
       " 'LC08_192026_20180513',\n",
       " 'LC08_192026_20180529',\n",
       " 'LC08_192026_20180630',\n",
       " 'LC08_192026_20180716',\n",
       " 'LC08_192026_20180801',\n",
       " 'LC08_192026_20180817',\n",
       " 'LC08_192026_20190601',\n",
       " 'LC08_192026_20190617',\n",
       " 'LC08_192026_20190703',\n",
       " 'LC08_192026_20190719',\n",
       " 'LC08_192026_20190804',\n",
       " 'LC08_192026_20190820',\n",
       " 'LC08_192026_20200502',\n",
       " 'LC08_192026_20200518',\n",
       " 'LC08_192026_20200603',\n",
       " 'LC08_192026_20200619',\n",
       " 'LC08_192026_20200705',\n",
       " 'LC08_192026_20200721',\n",
       " 'LC08_192026_20200806',\n",
       " 'LC08_192026_20200822',\n",
       " 'LC08_192026_20210505',\n",
       " 'LC08_192026_20210521',\n",
       " 'LC08_192026_20210622',\n",
       " 'LC08_192026_20210708',\n",
       " 'LC08_192026_20210724',\n",
       " 'LC08_192026_20210809',\n",
       " 'LC08_192026_20210825',\n",
       " 'LC08_192026_20220508',\n",
       " 'LC08_192026_20220625',\n",
       " 'LC08_192026_20220711',\n",
       " 'LC08_192026_20220727',\n",
       " 'LC08_192026_20220812',\n",
       " 'LC08_192027_20130515',\n",
       " 'LC08_192027_20130616',\n",
       " 'LC08_192027_20130702',\n",
       " 'LC08_192027_20130718',\n",
       " 'LC08_192027_20130803',\n",
       " 'LC08_192027_20130819',\n",
       " 'LC08_192027_20140502',\n",
       " 'LC08_192027_20140518',\n",
       " 'LC08_192027_20140603',\n",
       " 'LC08_192027_20140619',\n",
       " 'LC08_192027_20140705',\n",
       " 'LC08_192027_20140806',\n",
       " 'LC08_192027_20140822',\n",
       " 'LC08_192027_20150505',\n",
       " 'LC08_192027_20150606',\n",
       " 'LC08_192027_20150622',\n",
       " 'LC08_192027_20150708',\n",
       " 'LC08_192027_20150724',\n",
       " 'LC08_192027_20150809',\n",
       " 'LC08_192027_20160507',\n",
       " 'LC08_192027_20160523',\n",
       " 'LC08_192027_20160608',\n",
       " 'LC08_192027_20160624',\n",
       " 'LC08_192027_20160710',\n",
       " 'LC08_192027_20160726',\n",
       " 'LC08_192027_20160811',\n",
       " 'LC08_192027_20160827',\n",
       " 'LC08_192027_20170510',\n",
       " 'LC08_192027_20170526',\n",
       " 'LC08_192027_20170611',\n",
       " 'LC08_192027_20170627',\n",
       " 'LC08_192027_20170713',\n",
       " 'LC08_192027_20170729',\n",
       " 'LC08_192027_20170814',\n",
       " 'LC08_192027_20170830',\n",
       " 'LC08_192027_20180513',\n",
       " 'LC08_192027_20180529',\n",
       " 'LC08_192027_20180614',\n",
       " 'LC08_192027_20180630',\n",
       " 'LC08_192027_20180716',\n",
       " 'LC08_192027_20180801',\n",
       " 'LC08_192027_20180817',\n",
       " 'LC08_192027_20190516',\n",
       " 'LC08_192027_20190601',\n",
       " 'LC08_192027_20190617',\n",
       " 'LC08_192027_20190703',\n",
       " 'LC08_192027_20190719',\n",
       " 'LC08_192027_20190804',\n",
       " 'LC08_192027_20190820',\n",
       " 'LC08_192027_20200502',\n",
       " 'LC08_192027_20200518',\n",
       " 'LC08_192027_20200603',\n",
       " 'LC08_192027_20200619',\n",
       " 'LC08_192027_20200705',\n",
       " 'LC08_192027_20200721',\n",
       " 'LC08_192027_20200806',\n",
       " 'LC08_192027_20200822',\n",
       " 'LC08_192027_20210521',\n",
       " 'LC08_192027_20210622',\n",
       " 'LC08_192027_20210708',\n",
       " 'LC08_192027_20210724',\n",
       " 'LC08_192027_20210809',\n",
       " 'LC08_192027_20210825',\n",
       " 'LC08_192027_20220524',\n",
       " 'LC08_192027_20220625',\n",
       " 'LC08_192027_20220711',\n",
       " 'LC08_192027_20220727',\n",
       " 'LC08_192027_20220812',\n",
       " 'LC08_192027_20220828',\n",
       " 'LC08_193026_20130506',\n",
       " 'LC08_193026_20130607',\n",
       " 'LC08_193026_20130623',\n",
       " 'LC08_193026_20130709',\n",
       " 'LC08_193026_20130725',\n",
       " 'LC08_193026_20130810',\n",
       " 'LC08_193026_20140509',\n",
       " 'LC08_193026_20140525',\n",
       " 'LC08_193026_20140610',\n",
       " 'LC08_193026_20140626',\n",
       " 'LC08_193026_20140712',\n",
       " 'LC08_193026_20140728',\n",
       " 'LC08_193026_20150512',\n",
       " 'LC08_193026_20150528',\n",
       " 'LC08_193026_20150613',\n",
       " 'LC08_193026_20150629',\n",
       " 'LC08_193026_20150715',\n",
       " 'LC08_193026_20150731',\n",
       " 'LC08_193026_20160514',\n",
       " 'LC08_193026_20160615',\n",
       " 'LC08_193026_20160701',\n",
       " 'LC08_193026_20160717',\n",
       " 'LC08_193026_20160818',\n",
       " 'LC08_193026_20170501',\n",
       " 'LC08_193026_20170517',\n",
       " 'LC08_193026_20170602',\n",
       " 'LC08_193026_20170618',\n",
       " 'LC08_193026_20170704',\n",
       " 'LC08_193026_20170720',\n",
       " 'LC08_193026_20170805',\n",
       " 'LC08_193026_20170821',\n",
       " 'LC08_193026_20180504',\n",
       " 'LC08_193026_20180520',\n",
       " 'LC08_193026_20180605',\n",
       " 'LC08_193026_20180621',\n",
       " 'LC08_193026_20180707',\n",
       " 'LC08_193026_20180723',\n",
       " 'LC08_193026_20180808',\n",
       " 'LC08_193026_20180824',\n",
       " 'LC08_193026_20190507',\n",
       " 'LC08_193026_20190523',\n",
       " 'LC08_193026_20190608',\n",
       " 'LC08_193026_20190624',\n",
       " 'LC08_193026_20190710',\n",
       " 'LC08_193026_20190726',\n",
       " 'LC08_193026_20190811',\n",
       " 'LC08_193026_20190827',\n",
       " 'LC08_193026_20200509',\n",
       " 'LC08_193026_20200525',\n",
       " 'LC08_193026_20200626',\n",
       " 'LC08_193026_20200712',\n",
       " 'LC08_193026_20200728',\n",
       " 'LC08_193026_20200813',\n",
       " 'LC08_193026_20210613',\n",
       " 'LC08_193026_20210629',\n",
       " 'LC08_193026_20210715',\n",
       " 'LC08_193026_20210731',\n",
       " 'LC08_193026_20210816',\n",
       " 'LC08_193026_20220515',\n",
       " 'LC08_193026_20220531',\n",
       " 'LC08_193026_20220616',\n",
       " 'LC08_193026_20220702',\n",
       " 'LC08_193026_20220718',\n",
       " 'LC08_193026_20220803',\n",
       " 'LC08_193027_20130506',\n",
       " 'LC08_193027_20130607',\n",
       " 'LC08_193027_20130623',\n",
       " 'LC08_193027_20130709',\n",
       " 'LC08_193027_20130725',\n",
       " 'LC08_193027_20130810',\n",
       " 'LC08_193027_20140509',\n",
       " 'LC08_193027_20140525',\n",
       " 'LC08_193027_20140610',\n",
       " 'LC08_193027_20140626',\n",
       " 'LC08_193027_20140712',\n",
       " 'LC08_193027_20140728',\n",
       " 'LC08_193027_20140829',\n",
       " 'LC08_193027_20150512',\n",
       " 'LC08_193027_20150528',\n",
       " 'LC08_193027_20150613',\n",
       " 'LC08_193027_20150629',\n",
       " 'LC08_193027_20150715',\n",
       " 'LC08_193027_20150731',\n",
       " 'LC08_193027_20160514',\n",
       " 'LC08_193027_20160530',\n",
       " 'LC08_193027_20160615',\n",
       " 'LC08_193027_20160701',\n",
       " 'LC08_193027_20160717',\n",
       " 'LC08_193027_20160802',\n",
       " 'LC08_193027_20160818',\n",
       " 'LC08_193027_20170501',\n",
       " 'LC08_193027_20170517',\n",
       " 'LC08_193027_20170602',\n",
       " 'LC08_193027_20170618',\n",
       " 'LC08_193027_20170704',\n",
       " 'LC08_193027_20170720',\n",
       " 'LC08_193027_20170805',\n",
       " 'LC08_193027_20170821',\n",
       " 'LC08_193027_20180504',\n",
       " 'LC08_193027_20180520',\n",
       " 'LC08_193027_20180605',\n",
       " 'LC08_193027_20180621',\n",
       " 'LC08_193027_20180707',\n",
       " 'LC08_193027_20180723',\n",
       " 'LC08_193027_20180808',\n",
       " 'LC08_193027_20180824',\n",
       " 'LC08_193027_20190507',\n",
       " 'LC08_193027_20190523',\n",
       " 'LC08_193027_20190608',\n",
       " 'LC08_193027_20190624',\n",
       " 'LC08_193027_20190710',\n",
       " 'LC08_193027_20190726',\n",
       " 'LC08_193027_20190811',\n",
       " 'LC08_193027_20190827',\n",
       " 'LC08_193027_20200509',\n",
       " 'LC08_193027_20200525',\n",
       " 'LC08_193027_20200626',\n",
       " 'LC08_193027_20200712',\n",
       " 'LC08_193027_20200728',\n",
       " 'LC08_193027_20200813',\n",
       " 'LC08_193027_20210528',\n",
       " 'LC08_193027_20210613',\n",
       " 'LC08_193027_20210629',\n",
       " 'LC08_193027_20210731',\n",
       " 'LC08_193027_20210816',\n",
       " 'LC08_193027_20220515',\n",
       " 'LC08_193027_20220531',\n",
       " 'LC08_193027_20220616',\n",
       " 'LC08_193027_20220702',\n",
       " 'LC08_193027_20220718',\n",
       " 'LC08_193027_20220803',\n",
       " 'LC08_193027_20220819']"
      ]
     },
     "execution_count": 37,
     "metadata": {},
     "output_type": "execute_result"
    }
   ],
   "source": [
    "listOfImages = dataset_l8.aggregate_array('system:index').getInfo()\n",
    "print('Number of images in the collection: ', len(listOfImages))\n",
    "listOfImages"
   ]
  },
  {
   "cell_type": "code",
   "execution_count": 38,
   "id": "5f96515e-9c2b-4b49-bcc3-d7bda4b477b1",
   "metadata": {
    "pycharm": {
     "name": "#%%\n"
    }
   },
   "outputs": [
    {
     "data": {
      "text/html": [
       "\n",
       "            <style>\n",
       "                .geemap-dark {\n",
       "                    --jp-widgets-color: white;\n",
       "                    --jp-widgets-label-color: white;\n",
       "                    --jp-ui-font-color1: white;\n",
       "                    --jp-layout-color2: #454545;\n",
       "                    background-color: #383838;\n",
       "                }\n",
       "                    \n",
       "                .geemap-dark .jupyter-button {\n",
       "                    --jp-layout-color3: #383838;\n",
       "                }\n",
       "                \n",
       "                .geemap-colab {\n",
       "                    background-color: var(--colab-primary-surface-color, white);\n",
       "                }\n",
       "                    \n",
       "                .geemap-colab .jupyter-button {\n",
       "                    --jp-layout-color3: var(--colab-primary-surface-color, white);\n",
       "                }\n",
       "            </style>\n",
       "            "
      ],
      "text/plain": [
       "<IPython.core.display.HTML object>"
      ]
     },
     "metadata": {},
     "output_type": "display_data"
    }
   ],
   "source": [
    "rgb_vis = {'min':6000, 'max':12000, 'bands':['B4','B3','B2']}\n",
    "ndvi_colorizedVis = {\"min\":0,\"max\":1,\"palette\":[\"FFFFFF\",\"CE7E45\",\"DF923D\", \\\n",
    "                   \"F1B555\",\"FCD163\",\"99B718\",\"74A901\",\"66A000\",\"529400\",\"3E8601\",\\\n",
    "                    \"207401\",\"056201\",\"004C00\",\"023B01\",\"012E01\",\"011D01\",\"011301\"]}\n",
    "Map.addLayer(aoi)\n",
    "comp = dataset_l8.median().select('SR_B5').clip(roi)"
   ]
  },
  {
   "cell_type": "code",
   "execution_count": 39,
   "id": "9589a7b7-a8e9-43db-b0d1-9ed90628796b",
   "metadata": {
    "pycharm": {
     "name": "#%%\n"
    }
   },
   "outputs": [
    {
     "data": {
      "text/html": [
       "\n",
       "            <style>\n",
       "                .geemap-dark {\n",
       "                    --jp-widgets-color: white;\n",
       "                    --jp-widgets-label-color: white;\n",
       "                    --jp-ui-font-color1: white;\n",
       "                    --jp-layout-color2: #454545;\n",
       "                    background-color: #383838;\n",
       "                }\n",
       "                    \n",
       "                .geemap-dark .jupyter-button {\n",
       "                    --jp-layout-color3: #383838;\n",
       "                }\n",
       "                \n",
       "                .geemap-colab {\n",
       "                    background-color: var(--colab-primary-surface-color, white);\n",
       "                }\n",
       "                    \n",
       "                .geemap-colab .jupyter-button {\n",
       "                    --jp-layout-color3: var(--colab-primary-surface-color, white);\n",
       "                }\n",
       "            </style>\n",
       "            "
      ],
      "text/plain": [
       "<IPython.core.display.HTML object>"
      ]
     },
     "metadata": {},
     "output_type": "display_data"
    }
   ],
   "source": [
    "comp = dataset_l8.median().select('SR_B5').clip(roi)\n",
    "for i in range(2013,2021):\n",
    "    for j in range(5,9):\n",
    "        ima=dataset_l8.filter(ee.Filter.calendarRange(j,j,'month'))\\\n",
    "        .filter(ee.Filter.calendarRange(i,i,'year'))\n",
    "        med = ima.median().clip(roi)\n",
    "        ndvi = med.normalizedDifference(['SR_B5', 'SR_B4']).rename(str(i)+'0'+str(j)+'ndvi').toDouble()\n",
    "        evi = med.expression('2.5*((NIR-R)/(NIR+6*R+1-7.5*B))',{\n",
    "                                        'NIR':med.select('SR_B5'),\n",
    "                                        'R':med.select('SR_B4'),\n",
    "                                        'B':med.select('SR_B2')}) \\\n",
    "                                        .rename((str(i)+'0'+str(j)+'evi')).toDouble()\n",
    "        ndwi = med.normalizedDifference(['SR_B3', 'SR_B5']).rename(str(i)+'0'+str(j)+'ndwi').toDouble()\n",
    "        lswi1 = med.normalizedDifference(['SR_B3', 'SR_B6']).rename(str(i)+'0'+str(j)+'lswi1').toDouble()\n",
    "        lswi2 = med.normalizedDifference(['SR_B3', 'SR_B7']).rename(str(i)+'0'+str(j)+'lswi2').toDouble()\n",
    "        B5=med.select('SR_B5').toUint16()\n",
    "        texture = B5.glcmTexture()\n",
    "        asm=texture.select('SR_B5_asm').rename(str(i)+'0'+str(j)+'asm').toDouble()\n",
    "        corr=texture.select('SR_B5_corr').rename(str(i)+'0'+str(j)+'corr').toDouble()\n",
    "        var=texture.select('SR_B5_var').rename(str(i)+'0'+str(j)+'var').toDouble()\n",
    "        comp = comp.addBands(ndvi).addBands(evi).addBands(ndwi).addBands(lswi1).addBands(lswi2).addBands(asm).addBands(corr).addBands(var)"
   ]
  },
  {
   "cell_type": "code",
   "execution_count": 40,
   "id": "eba25fc9-e9d0-4cd9-8005-298518d02476",
   "metadata": {
    "pycharm": {
     "name": "#%%\n"
    }
   },
   "outputs": [
    {
     "data": {
      "text/html": [
       "\n",
       "            <style>\n",
       "                .geemap-dark {\n",
       "                    --jp-widgets-color: white;\n",
       "                    --jp-widgets-label-color: white;\n",
       "                    --jp-ui-font-color1: white;\n",
       "                    --jp-layout-color2: #454545;\n",
       "                    background-color: #383838;\n",
       "                }\n",
       "                    \n",
       "                .geemap-dark .jupyter-button {\n",
       "                    --jp-layout-color3: #383838;\n",
       "                }\n",
       "                \n",
       "                .geemap-colab {\n",
       "                    background-color: var(--colab-primary-surface-color, white);\n",
       "                }\n",
       "                    \n",
       "                .geemap-colab .jupyter-button {\n",
       "                    --jp-layout-color3: var(--colab-primary-surface-color, white);\n",
       "                }\n",
       "            </style>\n",
       "            "
      ],
      "text/plain": [
       "<IPython.core.display.HTML object>"
      ]
     },
     "metadata": {},
     "output_type": "display_data"
    },
    {
     "name": "stdout",
     "output_type": "stream",
     "text": [
      "Band Names:  ['SR_B5', '201305ndvi', '201305evi', '201305ndwi', '201305lswi1', '201305lswi2', '201305asm', '201305corr', '201305var', '201306ndvi', '201306evi', '201306ndwi', '201306lswi1', '201306lswi2', '201306asm', '201306corr', '201306var', '201307ndvi', '201307evi', '201307ndwi', '201307lswi1', '201307lswi2', '201307asm', '201307corr', '201307var', '201308ndvi', '201308evi', '201308ndwi', '201308lswi1', '201308lswi2', '201308asm', '201308corr', '201308var', '201405ndvi', '201405evi', '201405ndwi', '201405lswi1', '201405lswi2', '201405asm', '201405corr', '201405var', '201406ndvi', '201406evi', '201406ndwi', '201406lswi1', '201406lswi2', '201406asm', '201406corr', '201406var', '201407ndvi', '201407evi', '201407ndwi', '201407lswi1', '201407lswi2', '201407asm', '201407corr', '201407var', '201408ndvi', '201408evi', '201408ndwi', '201408lswi1', '201408lswi2', '201408asm', '201408corr', '201408var', '201505ndvi', '201505evi', '201505ndwi', '201505lswi1', '201505lswi2', '201505asm', '201505corr', '201505var', '201506ndvi', '201506evi', '201506ndwi', '201506lswi1', '201506lswi2', '201506asm', '201506corr', '201506var', '201507ndvi', '201507evi', '201507ndwi', '201507lswi1', '201507lswi2', '201507asm', '201507corr', '201507var', '201508ndvi', '201508evi', '201508ndwi', '201508lswi1', '201508lswi2', '201508asm', '201508corr', '201508var', '201605ndvi', '201605evi', '201605ndwi', '201605lswi1', '201605lswi2', '201605asm', '201605corr', '201605var', '201606ndvi', '201606evi', '201606ndwi', '201606lswi1', '201606lswi2', '201606asm', '201606corr', '201606var', '201607ndvi', '201607evi', '201607ndwi', '201607lswi1', '201607lswi2', '201607asm', '201607corr', '201607var', '201608ndvi', '201608evi', '201608ndwi', '201608lswi1', '201608lswi2', '201608asm', '201608corr', '201608var', '201705ndvi', '201705evi', '201705ndwi', '201705lswi1', '201705lswi2', '201705asm', '201705corr', '201705var', '201706ndvi', '201706evi', '201706ndwi', '201706lswi1', '201706lswi2', '201706asm', '201706corr', '201706var', '201707ndvi', '201707evi', '201707ndwi', '201707lswi1', '201707lswi2', '201707asm', '201707corr', '201707var', '201708ndvi', '201708evi', '201708ndwi', '201708lswi1', '201708lswi2', '201708asm', '201708corr', '201708var', '201805ndvi', '201805evi', '201805ndwi', '201805lswi1', '201805lswi2', '201805asm', '201805corr', '201805var', '201806ndvi', '201806evi', '201806ndwi', '201806lswi1', '201806lswi2', '201806asm', '201806corr', '201806var', '201807ndvi', '201807evi', '201807ndwi', '201807lswi1', '201807lswi2', '201807asm', '201807corr', '201807var', '201808ndvi', '201808evi', '201808ndwi', '201808lswi1', '201808lswi2', '201808asm', '201808corr', '201808var', '201905ndvi', '201905evi', '201905ndwi', '201905lswi1', '201905lswi2', '201905asm', '201905corr', '201905var', '201906ndvi', '201906evi', '201906ndwi', '201906lswi1', '201906lswi2', '201906asm', '201906corr', '201906var', '201907ndvi', '201907evi', '201907ndwi', '201907lswi1', '201907lswi2', '201907asm', '201907corr', '201907var', '201908ndvi', '201908evi', '201908ndwi', '201908lswi1', '201908lswi2', '201908asm', '201908corr', '201908var', '202005ndvi', '202005evi', '202005ndwi', '202005lswi1', '202005lswi2', '202005asm', '202005corr', '202005var', '202006ndvi', '202006evi', '202006ndwi', '202006lswi1', '202006lswi2', '202006asm', '202006corr', '202006var', '202007ndvi', '202007evi', '202007ndwi', '202007lswi1', '202007lswi2', '202007asm', '202007corr', '202007var', '202008ndvi', '202008evi', '202008ndwi', '202008lswi1', '202008lswi2', '202008asm', '202008corr', '202008var']\n"
     ]
    }
   ],
   "source": [
    "# Output Investigation\n",
    "# Get information about the bands as a list. \n",
    "bandNames = comp.bandNames() \n",
    "print('Band Names: ', bandNames.getInfo()) # ee.List of band names "
   ]
  },
  {
   "cell_type": "code",
   "execution_count": 49,
   "id": "da0b4483-13c7-4c40-a37f-45bad724abc0",
   "metadata": {
    "pycharm": {
     "name": "#%%\n"
    }
   },
   "outputs": [
    {
     "data": {
      "text/html": [
       "\n",
       "            <style>\n",
       "                .geemap-dark {\n",
       "                    --jp-widgets-color: white;\n",
       "                    --jp-widgets-label-color: white;\n",
       "                    --jp-ui-font-color1: white;\n",
       "                    --jp-layout-color2: #454545;\n",
       "                    background-color: #383838;\n",
       "                }\n",
       "                    \n",
       "                .geemap-dark .jupyter-button {\n",
       "                    --jp-layout-color3: #383838;\n",
       "                }\n",
       "                \n",
       "                .geemap-colab {\n",
       "                    background-color: var(--colab-primary-surface-color, white);\n",
       "                }\n",
       "                    \n",
       "                .geemap-colab .jupyter-button {\n",
       "                    --jp-layout-color3: var(--colab-primary-surface-color, white);\n",
       "                }\n",
       "            </style>\n",
       "            "
      ],
      "text/plain": [
       "<IPython.core.display.HTML object>"
      ]
     },
     "metadata": {},
     "output_type": "display_data"
    },
    {
     "name": "stdout",
     "output_type": "stream",
     "text": [
      "Band 5 projection:  {'type': 'Projection', 'crs': 'EPSG:4326', 'transform': [1, 0, 0, 0, 1, 0]}\n"
     ]
    }
   ],
   "source": [
    "# Get projection information from band 1. \n",
    "b2proj = comp.select('SR_B5').projection() \n",
    "print('Band 5 projection: ', b2proj.getInfo()) # ee.Projection object "
   ]
  },
  {
   "cell_type": "code",
   "execution_count": 50,
   "id": "42409c7b-b7f5-4617-8b79-e3a155bcb284",
   "metadata": {
    "pycharm": {
     "name": "#%%\n"
    }
   },
   "outputs": [
    {
     "data": {
      "text/html": [
       "\n",
       "            <style>\n",
       "                .geemap-dark {\n",
       "                    --jp-widgets-color: white;\n",
       "                    --jp-widgets-label-color: white;\n",
       "                    --jp-ui-font-color1: white;\n",
       "                    --jp-layout-color2: #454545;\n",
       "                    background-color: #383838;\n",
       "                }\n",
       "                    \n",
       "                .geemap-dark .jupyter-button {\n",
       "                    --jp-layout-color3: #383838;\n",
       "                }\n",
       "                \n",
       "                .geemap-colab {\n",
       "                    background-color: var(--colab-primary-surface-color, white);\n",
       "                }\n",
       "                    \n",
       "                .geemap-colab .jupyter-button {\n",
       "                    --jp-layout-color3: var(--colab-primary-surface-color, white);\n",
       "                }\n",
       "            </style>\n",
       "            "
      ],
      "text/plain": [
       "<IPython.core.display.HTML object>"
      ]
     },
     "metadata": {},
     "output_type": "display_data"
    }
   ],
   "source": [
    "task = ee.batch.Export.image.toDrive(image = comp,description='comp13_20',scale=30,folder = 'crop',region=aoi)\n",
    "task.start()"
   ]
  },
  {
   "cell_type": "code",
   "execution_count": 59,
   "id": "45193caf-e522-4a61-b114-e6c6abe2f757",
   "metadata": {
    "pycharm": {
     "name": "#%%\n"
    }
   },
   "outputs": [
    {
     "data": {
      "text/html": [
       "\n",
       "            <style>\n",
       "                .geemap-dark {\n",
       "                    --jp-widgets-color: white;\n",
       "                    --jp-widgets-label-color: white;\n",
       "                    --jp-ui-font-color1: white;\n",
       "                    --jp-layout-color2: #454545;\n",
       "                    background-color: #383838;\n",
       "                }\n",
       "                    \n",
       "                .geemap-dark .jupyter-button {\n",
       "                    --jp-layout-color3: #383838;\n",
       "                }\n",
       "                \n",
       "                .geemap-colab {\n",
       "                    background-color: var(--colab-primary-surface-color, white);\n",
       "                }\n",
       "                    \n",
       "                .geemap-colab .jupyter-button {\n",
       "                    --jp-layout-color3: var(--colab-primary-surface-color, white);\n",
       "                }\n",
       "            </style>\n",
       "            "
      ],
      "text/plain": [
       "<IPython.core.display.HTML object>"
      ]
     },
     "metadata": {},
     "output_type": "display_data"
    },
    {
     "data": {
      "text/plain": [
       "{'state': <State.UNSUBMITTED: 'UNSUBMITTED'>}"
      ]
     },
     "execution_count": 59,
     "metadata": {},
     "output_type": "execute_result"
    }
   ],
   "source": [
    "task.status()"
   ]
  },
  {
   "cell_type": "code",
   "execution_count": 52,
   "id": "7859714a-fd73-4469-9c59-f196111f7100",
   "metadata": {
    "pycharm": {
     "name": "#%%\n"
    }
   },
   "outputs": [
    {
     "data": {
      "text/html": [
       "\n",
       "            <style>\n",
       "                .geemap-dark {\n",
       "                    --jp-widgets-color: white;\n",
       "                    --jp-widgets-label-color: white;\n",
       "                    --jp-ui-font-color1: white;\n",
       "                    --jp-layout-color2: #454545;\n",
       "                    background-color: #383838;\n",
       "                }\n",
       "                    \n",
       "                .geemap-dark .jupyter-button {\n",
       "                    --jp-layout-color3: #383838;\n",
       "                }\n",
       "                \n",
       "                .geemap-colab {\n",
       "                    background-color: var(--colab-primary-surface-color, white);\n",
       "                }\n",
       "                    \n",
       "                .geemap-colab .jupyter-button {\n",
       "                    --jp-layout-color3: var(--colab-primary-surface-color, white);\n",
       "                }\n",
       "            </style>\n",
       "            "
      ],
      "text/plain": [
       "<IPython.core.display.HTML object>"
      ]
     },
     "metadata": {},
     "output_type": "display_data"
    },
    {
     "name": "stdout",
     "output_type": "stream",
     "text": [
      "201305\n",
      "201306\n",
      "201307\n",
      "201308\n",
      "2013 is finished\n",
      "201405\n",
      "201406\n",
      "201407\n",
      "201408\n",
      "2014 is finished\n",
      "201505\n",
      "201506\n",
      "201507\n",
      "201508\n",
      "2015 is finished\n",
      "201605\n",
      "201606\n",
      "201607\n",
      "201608\n",
      "2016 is finished\n",
      "201705\n",
      "201706\n",
      "201707\n",
      "201708\n",
      "2017 is finished\n",
      "201805\n",
      "201806\n",
      "201807\n",
      "201808\n",
      "2018 is finished\n",
      "201905\n",
      "201906\n",
      "201907\n",
      "201908\n",
      "2019 is finished\n",
      "202005\n",
      "202006\n",
      "202007\n",
      "202008\n",
      "2020 is finished\n"
     ]
    }
   ],
   "source": [
    "for i in range(2013,2021):\n",
    "    comp = dataset_l8.median().select('SR_B5').clip(roi)\n",
    "    for j in range(5,9):\n",
    "        ima=dataset_l8.filter(ee.Filter.calendarRange(j,j,'month'))\\\n",
    "        .filter(ee.Filter.calendarRange(i,i,'year'))\n",
    "        med = ima.median().clip(roi)\n",
    "        ndvi = med.normalizedDifference(['SR_B5', 'SR_B4']).rename('0'+str(j)+'ndvi').toDouble()\n",
    "        evi = med.expression('2.5*((NIR-R)/(NIR+6*R+1-7.5*B))',{\n",
    "                                        'NIR':med.select('SR_B5'),\n",
    "                                        'R':med.select('SR_B4'),\n",
    "                                        'B':med.select('SR_B2')}) \\\n",
    "                                        .rename(('0'+str(j)+'evi')).toDouble()\n",
    "        ndwi = med.normalizedDifference(['SR_B3', 'SR_B5']).rename('0'+str(j)+'ndwi').toDouble()\n",
    "        lswi1 = med.normalizedDifference(['SR_B3', 'SR_B6']).rename('0'+str(j)+'lswi1').toDouble()\n",
    "        lswi2 = med.normalizedDifference(['SR_B3', 'SR_B7']).rename('0'+str(j)+'lswi2').toDouble()\n",
    "        B5=med.select('SR_B5').toUint16()\n",
    "        texture = B5.glcmTexture()\n",
    "        asm=texture.select('SR_B5_asm').rename('0'+str(j)+'asm').toDouble()\n",
    "        corr=texture.select('SR_B5_corr').rename('0'+str(j)+'corr').toDouble()\n",
    "        var=texture.select('SR_B5_var').rename('0'+str(j)+'var').toDouble()\n",
    "        comp = comp.addBands(ndvi).addBands(evi).addBands(ndwi).addBands(lswi1).addBands(lswi2).addBands(asm).addBands(corr).addBands(var)\n",
    "        print(str(i)+'0'+str(j))\n",
    "    task = ee.batch.Export.image.toDrive(image = comp,description=str(i)+'index',scale=30,folder = 'crop',region=aoi)\n",
    "    task.start()\n",
    "    print(str(i)+' is finished')"
   ]
  },
  {
   "cell_type": "code",
   "execution_count": 60,
   "id": "9113a165-4cc3-473e-aeb0-9f8816679396",
   "metadata": {
    "pycharm": {
     "name": "#%%\n"
    }
   },
   "outputs": [
    {
     "data": {
      "text/html": [
       "\n",
       "            <style>\n",
       "                .geemap-dark {\n",
       "                    --jp-widgets-color: white;\n",
       "                    --jp-widgets-label-color: white;\n",
       "                    --jp-ui-font-color1: white;\n",
       "                    --jp-layout-color2: #454545;\n",
       "                    background-color: #383838;\n",
       "                }\n",
       "                    \n",
       "                .geemap-dark .jupyter-button {\n",
       "                    --jp-layout-color3: #383838;\n",
       "                }\n",
       "                \n",
       "                .geemap-colab {\n",
       "                    background-color: var(--colab-primary-surface-color, white);\n",
       "                }\n",
       "                    \n",
       "                .geemap-colab .jupyter-button {\n",
       "                    --jp-layout-color3: var(--colab-primary-surface-color, white);\n",
       "                }\n",
       "            </style>\n",
       "            "
      ],
      "text/plain": [
       "<IPython.core.display.HTML object>"
      ]
     },
     "metadata": {},
     "output_type": "display_data"
    },
    {
     "data": {
      "text/plain": [
       "{'state': <State.UNSUBMITTED: 'UNSUBMITTED'>}"
      ]
     },
     "execution_count": 60,
     "metadata": {},
     "output_type": "execute_result"
    }
   ],
   "source": [
    "task.status()"
   ]
  },
  {
   "cell_type": "code",
   "execution_count": 62,
   "id": "3aaafe92-6ff1-43b8-90ae-2a9e22c94d24",
   "metadata": {
    "pycharm": {
     "name": "#%%\n"
    }
   },
   "outputs": [
    {
     "data": {
      "text/html": [
       "\n",
       "            <style>\n",
       "                .geemap-dark {\n",
       "                    --jp-widgets-color: white;\n",
       "                    --jp-widgets-label-color: white;\n",
       "                    --jp-ui-font-color1: white;\n",
       "                    --jp-layout-color2: #454545;\n",
       "                    background-color: #383838;\n",
       "                }\n",
       "                    \n",
       "                .geemap-dark .jupyter-button {\n",
       "                    --jp-layout-color3: #383838;\n",
       "                }\n",
       "                \n",
       "                .geemap-colab {\n",
       "                    background-color: var(--colab-primary-surface-color, white);\n",
       "                }\n",
       "                    \n",
       "                .geemap-colab .jupyter-button {\n",
       "                    --jp-layout-color3: var(--colab-primary-surface-color, white);\n",
       "                }\n",
       "            </style>\n",
       "            "
      ],
      "text/plain": [
       "<IPython.core.display.HTML object>"
      ]
     },
     "metadata": {},
     "output_type": "display_data"
    }
   ],
   "source": [
    "gt_sample=ee.FeatureCollection(\"users/gaoyu546/sample_all\")\n",
    "samples=gt_sample\n",
    "\n",
    "bands=['b1', 'b2', 'b3', 'b4', 'b5', 'b6', 'b7', 'b8', 'b9', 'b10', 'b11', 'b12', 'b13', 'b14', 'b15', 'b16', 'b17', 'b18', 'b19', 'b20', 'b21', 'b22', 'b23', 'b24', 'b25', 'b26', 'b27', 'b28', 'b29', 'b30', 'b31', 'b32', 'b33']\n"
   ]
  },
  {
   "cell_type": "code",
   "execution_count": 56,
   "id": "b3b41265-bd75-4ae6-b154-83416d15c122",
   "metadata": {
    "pycharm": {
     "name": "#%%\n"
    }
   },
   "outputs": [
    {
     "data": {
      "text/html": [
       "\n",
       "            <style>\n",
       "                .geemap-dark {\n",
       "                    --jp-widgets-color: white;\n",
       "                    --jp-widgets-label-color: white;\n",
       "                    --jp-ui-font-color1: white;\n",
       "                    --jp-layout-color2: #454545;\n",
       "                    background-color: #383838;\n",
       "                }\n",
       "                    \n",
       "                .geemap-dark .jupyter-button {\n",
       "                    --jp-layout-color3: #383838;\n",
       "                }\n",
       "                \n",
       "                .geemap-colab {\n",
       "                    background-color: var(--colab-primary-surface-color, white);\n",
       "                }\n",
       "                    \n",
       "                .geemap-colab .jupyter-button {\n",
       "                    --jp-layout-color3: var(--colab-primary-surface-color, white);\n",
       "                }\n",
       "            </style>\n",
       "            "
      ],
      "text/plain": [
       "<IPython.core.display.HTML object>"
      ]
     },
     "metadata": {},
     "output_type": "display_data"
    }
   ],
   "source": [
    "withRandom = samples.randomColumn('random')\n",
    "# We want to reserve some of the data for testing, to avoid overfitting the model.\n",
    "split = 0.7;  # Roughly 70% training, 30% testing.\n",
    "training = withRandom.filter(ee.Filter.lt('random', split))\n",
    "testing = withRandom.filter(ee.Filter.gte('random', split))"
   ]
  },
  {
   "cell_type": "code",
   "execution_count": 64,
   "id": "b3d6ee15-3817-44d6-adc2-ce17ca53fe59",
   "metadata": {
    "pycharm": {
     "name": "#%%\n"
    }
   },
   "outputs": [
    {
     "data": {
      "text/html": [
       "\n",
       "            <style>\n",
       "                .geemap-dark {\n",
       "                    --jp-widgets-color: white;\n",
       "                    --jp-widgets-label-color: white;\n",
       "                    --jp-ui-font-color1: white;\n",
       "                    --jp-layout-color2: #454545;\n",
       "                    background-color: #383838;\n",
       "                }\n",
       "                    \n",
       "                .geemap-dark .jupyter-button {\n",
       "                    --jp-layout-color3: #383838;\n",
       "                }\n",
       "                \n",
       "                .geemap-colab {\n",
       "                    background-color: var(--colab-primary-surface-color, white);\n",
       "                }\n",
       "                    \n",
       "                .geemap-colab .jupyter-button {\n",
       "                    --jp-layout-color3: var(--colab-primary-surface-color, white);\n",
       "                }\n",
       "            </style>\n",
       "            "
      ],
      "text/plain": [
       "<IPython.core.display.HTML object>"
      ]
     },
     "metadata": {},
     "output_type": "display_data"
    },
    {
     "ename": "EEException",
     "evalue": "Collection.loadTable: Expected asset 'users/gaoyu546/sample_all' to be a Collection, found 'IndexedFolder'.",
     "output_type": "error",
     "traceback": [
      "\u001b[1;31m---------------------------------------------------------------------------\u001b[0m",
      "\u001b[1;31mHttpError\u001b[0m                                 Traceback (most recent call last)",
      "File \u001b[1;32mc:\\Users\\Grey\\anaconda3\\Lib\\site-packages\\ee\\data.py:355\u001b[0m, in \u001b[0;36m_execute_cloud_call\u001b[1;34m(call, num_retries)\u001b[0m\n\u001b[0;32m    354\u001b[0m \u001b[39mtry\u001b[39;00m:\n\u001b[1;32m--> 355\u001b[0m   \u001b[39mreturn\u001b[39;00m call\u001b[39m.\u001b[39mexecute(num_retries\u001b[39m=\u001b[39mnum_retries)\n\u001b[0;32m    356\u001b[0m \u001b[39mexcept\u001b[39;00m googleapiclient\u001b[39m.\u001b[39merrors\u001b[39m.\u001b[39mHttpError \u001b[39mas\u001b[39;00m e:\n",
      "File \u001b[1;32mc:\\Users\\Grey\\anaconda3\\Lib\\site-packages\\googleapiclient\\_helpers.py:130\u001b[0m, in \u001b[0;36mpositional.<locals>.positional_decorator.<locals>.positional_wrapper\u001b[1;34m(*args, **kwargs)\u001b[0m\n\u001b[0;32m    129\u001b[0m         logger\u001b[39m.\u001b[39mwarning(message)\n\u001b[1;32m--> 130\u001b[0m \u001b[39mreturn\u001b[39;00m wrapped(\u001b[39m*\u001b[39margs, \u001b[39m*\u001b[39m\u001b[39m*\u001b[39mkwargs)\n",
      "File \u001b[1;32mc:\\Users\\Grey\\anaconda3\\Lib\\site-packages\\googleapiclient\\http.py:938\u001b[0m, in \u001b[0;36mHttpRequest.execute\u001b[1;34m(self, http, num_retries)\u001b[0m\n\u001b[0;32m    937\u001b[0m \u001b[39mif\u001b[39;00m resp\u001b[39m.\u001b[39mstatus \u001b[39m>\u001b[39m\u001b[39m=\u001b[39m \u001b[39m300\u001b[39m:\n\u001b[1;32m--> 938\u001b[0m     \u001b[39mraise\u001b[39;00m HttpError(resp, content, uri\u001b[39m=\u001b[39m\u001b[39mself\u001b[39m\u001b[39m.\u001b[39muri)\n\u001b[0;32m    939\u001b[0m \u001b[39mreturn\u001b[39;00m \u001b[39mself\u001b[39m\u001b[39m.\u001b[39mpostproc(resp, content)\n",
      "\u001b[1;31mHttpError\u001b[0m: <HttpError 400 when requesting https://earthengine.googleapis.com/v1/projects/earthengine-legacy/image:export?alt=json returned \"Collection.loadTable: Expected asset 'users/gaoyu546/sample_all' to be a Collection, found 'IndexedFolder'.\". Details: \"Collection.loadTable: Expected asset 'users/gaoyu546/sample_all' to be a Collection, found 'IndexedFolder'.\">",
      "\nDuring handling of the above exception, another exception occurred:\n",
      "\u001b[1;31mEEException\u001b[0m                               Traceback (most recent call last)",
      "\u001b[1;32md:\\Documents\\GitHub\\Elects\\preimages.ipynb 单元格 19\u001b[0m line \u001b[0;36m1\n\u001b[0;32m     <a href='vscode-notebook-cell:/d%3A/Documents/GitHub/Elects/preimages.ipynb#X24sZmlsZQ%3D%3D?line=15'>16</a>\u001b[0m result \u001b[39m=\u001b[39m data\u001b[39m.\u001b[39mselect(bands)\u001b[39m.\u001b[39mclassify(trained)\n\u001b[0;32m     <a href='vscode-notebook-cell:/d%3A/Documents/GitHub/Elects/preimages.ipynb#X24sZmlsZQ%3D%3D?line=16'>17</a>\u001b[0m task \u001b[39m=\u001b[39m ee\u001b[39m.\u001b[39mbatch\u001b[39m.\u001b[39mExport\u001b[39m.\u001b[39mimage\u001b[39m.\u001b[39mtoDrive(image \u001b[39m=\u001b[39m result,description\u001b[39m=\u001b[39mi\u001b[39m+\u001b[39m\u001b[39m'\u001b[39m\u001b[39mclass\u001b[39m\u001b[39m'\u001b[39m,scale\u001b[39m=\u001b[39m\u001b[39m30\u001b[39m,folder \u001b[39m=\u001b[39m \u001b[39m'\u001b[39m\u001b[39mcrop\u001b[39m\u001b[39m'\u001b[39m,region\u001b[39m=\u001b[39maoi)\n\u001b[1;32m---> <a href='vscode-notebook-cell:/d%3A/Documents/GitHub/Elects/preimages.ipynb#X24sZmlsZQ%3D%3D?line=17'>18</a>\u001b[0m task\u001b[39m.\u001b[39mstart()\n",
      "File \u001b[1;32mc:\\Users\\Grey\\anaconda3\\Lib\\site-packages\\ee\\batch.py:125\u001b[0m, in \u001b[0;36mTask.start\u001b[1;34m(self)\u001b[0m\n\u001b[0;32m    122\u001b[0m   \u001b[39mself\u001b[39m\u001b[39m.\u001b[39mconfig[\u001b[39m'\u001b[39m\u001b[39mworkloadTag\u001b[39m\u001b[39m'\u001b[39m] \u001b[39m=\u001b[39m \u001b[39mself\u001b[39m\u001b[39m.\u001b[39mworkload_tag\n\u001b[0;32m    124\u001b[0m \u001b[39mif\u001b[39;00m \u001b[39mself\u001b[39m\u001b[39m.\u001b[39mtask_type \u001b[39m==\u001b[39m Task\u001b[39m.\u001b[39mType\u001b[39m.\u001b[39mEXPORT_IMAGE:\n\u001b[1;32m--> 125\u001b[0m   result \u001b[39m=\u001b[39m data\u001b[39m.\u001b[39mexportImage(\u001b[39mself\u001b[39m\u001b[39m.\u001b[39m_request_id, \u001b[39mself\u001b[39m\u001b[39m.\u001b[39mconfig)\n\u001b[0;32m    126\u001b[0m \u001b[39melif\u001b[39;00m \u001b[39mself\u001b[39m\u001b[39m.\u001b[39mtask_type \u001b[39m==\u001b[39m Task\u001b[39m.\u001b[39mType\u001b[39m.\u001b[39mEXPORT_MAP:\n\u001b[0;32m    127\u001b[0m   result \u001b[39m=\u001b[39m data\u001b[39m.\u001b[39mexportMap(\u001b[39mself\u001b[39m\u001b[39m.\u001b[39m_request_id, \u001b[39mself\u001b[39m\u001b[39m.\u001b[39mconfig)\n",
      "File \u001b[1;32mc:\\Users\\Grey\\anaconda3\\Lib\\site-packages\\ee\\data.py:1670\u001b[0m, in \u001b[0;36mexportImage\u001b[1;34m(request_id, params)\u001b[0m\n\u001b[0;32m   1649\u001b[0m \u001b[39m\u001b[39m\u001b[39m\"\"\"Starts an image export task running.\u001b[39;00m\n\u001b[0;32m   1650\u001b[0m \n\u001b[0;32m   1651\u001b[0m \u001b[39mThis is a low-level method. The higher-level ee.batch.Export.image object\u001b[39;00m\n\u001b[1;32m   (...)\u001b[0m\n\u001b[0;32m   1667\u001b[0m \u001b[39m  If you are using the cloud API, this will be an Operation.\u001b[39;00m\n\u001b[0;32m   1668\u001b[0m \u001b[39m\"\"\"\u001b[39;00m\n\u001b[0;32m   1669\u001b[0m params \u001b[39m=\u001b[39m params\u001b[39m.\u001b[39mcopy()\n\u001b[1;32m-> 1670\u001b[0m \u001b[39mreturn\u001b[39;00m _prepare_and_run_export(\n\u001b[0;32m   1671\u001b[0m     request_id, params, _get_cloud_projects()\u001b[39m.\u001b[39mimage()\u001b[39m.\u001b[39mexport\n\u001b[0;32m   1672\u001b[0m )\n",
      "File \u001b[1;32mc:\\Users\\Grey\\anaconda3\\Lib\\site-packages\\ee\\data.py:1787\u001b[0m, in \u001b[0;36m_prepare_and_run_export\u001b[1;34m(request_id, params, export_endpoint)\u001b[0m\n\u001b[0;32m   1784\u001b[0m   params[\u001b[39m'\u001b[39m\u001b[39mexpression\u001b[39m\u001b[39m'\u001b[39m] \u001b[39m=\u001b[39m serializer\u001b[39m.\u001b[39mencode(\n\u001b[0;32m   1785\u001b[0m       params[\u001b[39m'\u001b[39m\u001b[39mexpression\u001b[39m\u001b[39m'\u001b[39m], for_cloud_api\u001b[39m=\u001b[39m\u001b[39mTrue\u001b[39;00m)\n\u001b[0;32m   1786\u001b[0m num_retries \u001b[39m=\u001b[39m MAX_RETRIES \u001b[39mif\u001b[39;00m request_id \u001b[39melse\u001b[39;00m \u001b[39m0\u001b[39m\n\u001b[1;32m-> 1787\u001b[0m \u001b[39mreturn\u001b[39;00m _execute_cloud_call(\n\u001b[0;32m   1788\u001b[0m     export_endpoint(project\u001b[39m=\u001b[39m_get_projects_path(), body\u001b[39m=\u001b[39mparams),\n\u001b[0;32m   1789\u001b[0m     num_retries\u001b[39m=\u001b[39mnum_retries)\n",
      "File \u001b[1;32mc:\\Users\\Grey\\anaconda3\\Lib\\site-packages\\ee\\data.py:357\u001b[0m, in \u001b[0;36m_execute_cloud_call\u001b[1;34m(call, num_retries)\u001b[0m\n\u001b[0;32m    355\u001b[0m   \u001b[39mreturn\u001b[39;00m call\u001b[39m.\u001b[39mexecute(num_retries\u001b[39m=\u001b[39mnum_retries)\n\u001b[0;32m    356\u001b[0m \u001b[39mexcept\u001b[39;00m googleapiclient\u001b[39m.\u001b[39merrors\u001b[39m.\u001b[39mHttpError \u001b[39mas\u001b[39;00m e:\n\u001b[1;32m--> 357\u001b[0m   \u001b[39mraise\u001b[39;00m _translate_cloud_exception(e)\n",
      "\u001b[1;31mEEException\u001b[0m: Collection.loadTable: Expected asset 'users/gaoyu546/sample_all' to be a Collection, found 'IndexedFolder'."
     ]
    }
   ],
   "source": [
    "# Train Random Forest (RF) classifier with default parameters.\n",
    "trained = ee.Classifier.smileRandomForest(300).train(training, 'Class', bands)\n",
    "\n",
    "# Classify the test FeatureCollection.\n",
    "test = testing.classify(trained)\n",
    "\n",
    "# Print the confusion matrix.\n",
    "confusionMatrix = test.errorMatrix('Class', 'classification')\n",
    "rf_accuracy = confusionMatrix.accuracy()\n",
    "#print('Confusion Matrix', confusionMatrix)\n",
    "#print('Validation overall accuracy: ', rf_accuracy)\n",
    "\n",
    "# Classify the image with the same bands used for training.\n",
    "for i in ['2013','2014','2015','2016','2017','2018']:\n",
    "    data=ee.Image(\"users/gaoyu546/\"+i+\"index\")\n",
    "    result = data.select(bands).classify(trained)\n",
    "    task = ee.batch.Export.image.toDrive(image = result,description=i+'class',scale=30,folder = 'crop',region=aoi)\n",
    "    task.start()\n",
    "# Display the clusters with random colors.\n",
    "#Map.addLayer(result_rf4.randomVisualizer(), {}, 'RF_Scheme_4')\n",
    "#Map"
   ]
  },
  {
   "cell_type": "code",
   "execution_count": 151,
   "id": "8b3af063-2485-428d-9496-cfcbb54077ae",
   "metadata": {
    "pycharm": {
     "name": "#%%\n"
    }
   },
   "outputs": [
    {
     "data": {
      "text/plain": [
       "{'state': 'COMPLETED',\n",
       " 'description': '2018class',\n",
       " 'creation_timestamp_ms': 1671555386618,\n",
       " 'update_timestamp_ms': 1671555439701,\n",
       " 'start_timestamp_ms': 1671555431890,\n",
       " 'task_type': 'EXPORT_IMAGE',\n",
       " 'destination_uris': ['https://drive.google.com/#folders/1lmbNUZE66_48fNTi2h9CgEmQQ-8ogRsQ'],\n",
       " 'attempt': 1,\n",
       " 'batch_eecu_usage_seconds': 1.8325011730194092,\n",
       " 'id': 'EDKFARGIWKR7J663FEL6WCI2',\n",
       " 'name': 'projects/earthengine-legacy/operations/EDKFARGIWKR7J663FEL6WCI2'}"
      ]
     },
     "execution_count": 151,
     "metadata": {},
     "output_type": "execute_result"
    }
   ],
   "source": [
    "task.status()"
   ]
  },
  {
   "cell_type": "code",
   "execution_count": 153,
   "id": "3409df29-bc41-4157-acf3-4a9e95433e95",
   "metadata": {
    "pycharm": {
     "name": "#%%\n"
    }
   },
   "outputs": [
    {
     "data": {
      "application/vnd.jupyter.widget-view+json": {
       "model_id": "8a02251390d3458ea4f09a26d6797b3e",
       "version_major": 2,
       "version_minor": 0
      },
      "text/plain": [
       "Map(bottom=1451378.0, center=[48.39604337518057, 11.68125629425049], controls=(WidgetControl(options=['positio…"
      ]
     },
     "execution_count": 153,
     "metadata": {},
     "output_type": "execute_result"
    }
   ],
   "source": [
    "Map.addLayer(result.randomVisualizer(), {}, 'RF_Scheme_4')\n",
    "Map"
   ]
  },
  {
   "cell_type": "code",
   "execution_count": null,
   "id": "ed06d1b0-c993-4f90-a085-8074573f3fd7",
   "metadata": {
    "pycharm": {
     "name": "#%%\n"
    }
   },
   "outputs": [],
   "source": []
  }
 ],
 "metadata": {
  "kernelspec": {
   "display_name": "Python 3 (ipykernel)",
   "language": "python",
   "name": "python3"
  },
  "language_info": {
   "codemirror_mode": {
    "name": "ipython",
    "version": 3
   },
   "file_extension": ".py",
   "mimetype": "text/x-python",
   "name": "python",
   "nbconvert_exporter": "python",
   "pygments_lexer": "ipython3",
   "version": "3.8.13"
  }
 },
 "nbformat": 4,
 "nbformat_minor": 5
}
